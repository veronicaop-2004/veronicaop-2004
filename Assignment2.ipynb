{
  "nbformat": 4,
  "nbformat_minor": 0,
  "metadata": {
    "colab": {
      "name": "Assignment2.ipynb",
      "provenance": [],
      "authorship_tag": "ABX9TyNwYjPvp3dYBgY+1FOselxT",
      "include_colab_link": true
    },
    "kernelspec": {
      "name": "python3",
      "display_name": "Python 3"
    },
    "language_info": {
      "name": "python"
    }
  },
  "cells": [
    {
      "cell_type": "markdown",
      "metadata": {
        "id": "view-in-github",
        "colab_type": "text"
      },
      "source": [
        "<a href=\"https://colab.research.google.com/github/veronicaop-2004/veronicaop-2004/blob/main/Assignment2.ipynb\" target=\"_parent\"><img src=\"https://colab.research.google.com/assets/colab-badge.svg\" alt=\"Open In Colab\"/></a>"
      ]
    },
    {
      "cell_type": "code",
      "metadata": {
        "id": "ldUVbByVgUMo"
      },
      "source": [
        "# Assignment 2\n",
        "\n",
        "import random\n",
        "maxTicketsAvailable=int(input(\"Number of person who buy Ticket\"))\n",
        "l=[]\n",
        "for i in range(maxTicketsAvailable):\n",
        "    l.append(input(\"Name of Person\"))\n",
        "n = random.randint(0,maxTicketsAvailable-5)\n",
        "print(\"Winner of lottery is:\",l[n])"
      ],
      "execution_count": null,
      "outputs": []
    },
    {
      "cell_type": "code",
      "metadata": {
        "id": "4V5f0iV3nQzJ"
      },
      "source": [
        ""
      ],
      "execution_count": null,
      "outputs": []
    }
  ]
}