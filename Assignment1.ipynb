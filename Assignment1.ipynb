{
  "nbformat": 4,
  "nbformat_minor": 0,
  "metadata": {
    "colab": {
      "name": "Assignment1.ipynb",
      "provenance": [],
      "authorship_tag": "ABX9TyNTKo0JnDV+qkpaQNnTl0+F",
      "include_colab_link": true
    },
    "kernelspec": {
      "name": "python3",
      "display_name": "Python 3"
    },
    "language_info": {
      "name": "python"
    }
  },
  "cells": [
    {
      "cell_type": "markdown",
      "metadata": {
        "id": "view-in-github",
        "colab_type": "text"
      },
      "source": [
        "<a href=\"https://colab.research.google.com/github/veronicaop-2004/veronicaop-2004/blob/main/Assignment1.ipynb\" target=\"_parent\"><img src=\"https://colab.research.google.com/assets/colab-badge.svg\" alt=\"Open In Colab\"/></a>"
      ]
    },
    {
      "cell_type": "code",
      "metadata": {
        "id": "tjnJCCVOexEb"
      },
      "source": [
        "# My First Project"
      ],
      "execution_count": 1,
      "outputs": []
    },
    {
      "cell_type": "code",
      "metadata": {
        "id": "EvYYjKBqfcP2"
      },
      "source": [
        "# To substract two Numbers\n",
        "\n",
        "a = int(input(\"First Number\"))\n",
        "b = int(input(\"Second Number\"))\n",
        "sub = a - b\n",
        "print(\"Our Sub is\", sub)"
      ],
      "execution_count": null,
      "outputs": []
    },
    {
      "cell_type": "code",
      "metadata": {
        "id": "RbN1iCFVgfzV"
      },
      "source": [
        "# To multiply two Numbers\n",
        "\n",
        "a = int(input(\"First Number\"))\n",
        "b = int(input(\"Second Number\"))\n",
        "mul = a * b\n",
        "print(\"Our Mul is\", mul)"
      ],
      "execution_count": null,
      "outputs": []
    },
    {
      "cell_type": "code",
      "metadata": {
        "id": "oMx18rwPiL5u"
      },
      "source": [
        "# To divide two Numbers\n",
        "\n",
        "a = int(input(\"First Number\"))\n",
        "b = int(input('Second Number'))\n",
        "div = a / b\n",
        "print(\"Our Div is\", div)"
      ],
      "execution_count": null,
      "outputs": []
    }
  ]
}