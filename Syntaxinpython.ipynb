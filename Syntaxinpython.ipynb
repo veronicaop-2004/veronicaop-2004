{
  "nbformat": 4,
  "nbformat_minor": 0,
  "metadata": {
    "colab": {
      "name": "Syntaxinpython.ipynb",
      "provenance": [],
      "authorship_tag": "ABX9TyOlLjphPR9qI3bqX5sy+9Ef",
      "include_colab_link": true
    },
    "kernelspec": {
      "name": "python3",
      "display_name": "Python 3"
    },
    "language_info": {
      "name": "python"
    }
  },
  "cells": [
    {
      "cell_type": "markdown",
      "metadata": {
        "id": "view-in-github",
        "colab_type": "text"
      },
      "source": [
        "<a href=\"https://colab.research.google.com/github/veronicaop-2004/veronicaop-2004/blob/main/Syntaxinpython.ipynb\" target=\"_parent\"><img src=\"https://colab.research.google.com/assets/colab-badge.svg\" alt=\"Open In Colab\"/></a>"
      ]
    },
    {
      "cell_type": "code",
      "metadata": {
        "id": "fc2IkZ7TEgVb"
      },
      "source": [
        "# Syntax of function in python\n",
        "\n",
        "def hello():\n",
        "  print(\"Hello\")"
      ],
      "execution_count": 4,
      "outputs": []
    },
    {
      "cell_type": "code",
      "metadata": {
        "id": "caf53CdNFWgD"
      },
      "source": [
        "# 2 Take a variable just rint it ( One way communication from Python program)\n",
        "\n",
        "def hello(name):\n",
        "  print(\"Hello - \",name)"
      ],
      "execution_count": 8,
      "outputs": []
    },
    {
      "cell_type": "code",
      "metadata": {
        "colab": {
          "base_uri": "https://localhost:8080/"
        },
        "id": "0dHZu3NjGCN9",
        "outputId": "33e64a6f-5a0f-437f-aece-65a98c31e921"
      },
      "source": [
        "hello(\"lucas\")\n"
      ],
      "execution_count": 11,
      "outputs": [
        {
          "output_type": "stream",
          "text": [
            "Hello -  lucas\n"
          ],
          "name": "stdout"
        }
      ]
    },
    {
      "cell_type": "code",
      "metadata": {
        "id": "iZxqZGoDGetn"
      },
      "source": [
        "# 3 - Function with Return value"
      ],
      "execution_count": 12,
      "outputs": []
    },
    {
      "cell_type": "code",
      "metadata": {
        "id": "i8Xrc3kCGxkk"
      },
      "source": [
        "def hello(name):\n",
        "  return \"Hey - \" + name + \" How are you ?\"\n"
      ],
      "execution_count": 14,
      "outputs": []
    },
    {
      "cell_type": "code",
      "metadata": {
        "id": "4iJCHws5G143"
      },
      "source": [
        "greet = hello(\"Anshu\")"
      ],
      "execution_count": 23,
      "outputs": []
    },
    {
      "cell_type": "code",
      "metadata": {
        "id": "kVnYuNytI2gd"
      },
      "source": [
        "# *ARGS & *KWARGS"
      ],
      "execution_count": 26,
      "outputs": []
    },
    {
      "cell_type": "code",
      "metadata": {
        "id": "tbhJOnoMJIKy"
      },
      "source": [
        "# Take multiple unlimited parameters\n",
        "\n",
        "def hello(*args):\n",
        "  for i in args:\n",
        "    print(\"Hello - \",i)\n"
      ],
      "execution_count": 27,
      "outputs": []
    },
    {
      "cell_type": "code",
      "metadata": {
        "colab": {
          "base_uri": "https://localhost:8080/"
        },
        "id": "xPWsAYU0KIpa",
        "outputId": "92df1502-10ab-494b-c665-306b63ca9653"
      },
      "source": [
        "hello(\"Anshu\",\"Shivam\",\"Anmol\",\"Shankar\")"
      ],
      "execution_count": 30,
      "outputs": [
        {
          "output_type": "stream",
          "text": [
            "Hello -  Anshu\n",
            "Hello -  Shivam\n",
            "Hello -  Anmol\n",
            "Hello -  Shankar\n"
          ],
          "name": "stdout"
        }
      ]
    },
    {
      "cell_type": "code",
      "metadata": {
        "id": "2PSoGoTkKPN7"
      },
      "source": [
        "def hello(**kwargs):\n",
        "  for i in kwargs.keys():    here ia is a temporary variable\n",
        "    print(i,\" - \",kwargs[i])"
      ],
      "execution_count": 31,
      "outputs": []
    },
    {
      "cell_type": "code",
      "metadata": {
        "colab": {
          "base_uri": "https://localhost:8080/"
        },
        "id": "hvFo-t9FLNRC",
        "outputId": "55ff68c9-7893-426e-8aef-2a5b868839fc"
      },
      "source": [
        "hello(name=\"Santosh\", age=20, mob=\"+91 66344 85997\")"
      ],
      "execution_count": 46,
      "outputs": [
        {
          "output_type": "stream",
          "text": [
            "Hello -  name\n",
            "Hello -  age\n",
            "Hello -  mob\n"
          ],
          "name": "stdout"
        }
      ]
    },
    {
      "cell_type": "code",
      "metadata": {
        "id": "5-UkazmOLUyC"
      },
      "source": [
        "dict = {\"name\":\"sai\",\"age\":34}"
      ],
      "execution_count": 50,
      "outputs": []
    },
    {
      "cell_type": "code",
      "metadata": {
        "colab": {
          "base_uri": "https://localhost:8080/"
        },
        "id": "U0HpPpsTNaDg",
        "outputId": "5a3eaa1f-e695-443f-d853-b3439a21054b"
      },
      "source": [
        "dict.keys()"
      ],
      "execution_count": 51,
      "outputs": [
        {
          "output_type": "execute_result",
          "data": {
            "text/plain": [
              "dict_keys(['name', 'age'])"
            ]
          },
          "metadata": {
            "tags": []
          },
          "execution_count": 51
        }
      ]
    },
    {
      "cell_type": "code",
      "metadata": {
        "id": "0LhvJUM1Nb9R"
      },
      "source": [
        ""
      ],
      "execution_count": null,
      "outputs": []
    }
  ]
}